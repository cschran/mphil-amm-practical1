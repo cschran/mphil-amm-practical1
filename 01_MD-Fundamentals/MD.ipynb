{
 "cells": [
  {
   "cell_type": "code",
   "execution_count": null,
   "metadata": {},
   "outputs": [],
   "source": [
    "import numpy as np\n",
    "import matplotlib.pyplot as plt\n",
    "import ase\n",
    "from ase import Atoms\n",
    "from ase.visualize import view\n",
    "from tabulate import tabulate"
   ]
  },
  {
   "cell_type": "markdown",
   "metadata": {},
   "source": [
    "## Molecular Dynmaics Simulation of Liquid Argon\n",
    "\n",
    "In this section we will follow in the footsteps of Aneesur Rahman, who ran the first molecular dynamics computer simulation on liquid argon 60 years ago in 1964 [[1]](#1). Fittingly for this summer school, we will also be modelling the interactions between the Ar atoms with a Lennard Jones potential. This potential is given by:\n",
    "\n",
    "$U(r) = 4\\epsilon [(\\frac{\\sigma}{r})^{12} -(\\frac{\\sigma}{r})^{6} ]$\n",
    "\n",
    "where $\\sigma$ and $\\epsilon$ are characteristic lengths and energies for a given system.\n",
    "\n",
    "The values of $\\sigma$ and $\\epsilon$ for Argon are: $\\sigma$ = 3.4 Å and $\\epsilon/k_B = 120$ K, and the density at 94.4 K is 1374 kg/$\\mathrm{m}^{-3}$.\n",
    "\n",
    "Generally in simulations we use reduced Lennard Jones units, where $\\sigma$, $\\epsilon$ and $m$ are the units of length, energy and mass respectively; so our potential becomes:\n",
    "\n",
    "$U^{\\star}(r^{\\star}) = \\frac{U(r)}{\\epsilon} = U^{\\star}(r^{\\star}) = 4 [(\\frac{1}{r*})^{12} -(\\frac{1}{r*})^{6} ]$\n",
    "\n",
    "and for example density and temperature $\\rho$ and $T$ become $\\rho^{\\star} = \\rho \\sigma^3$ and $T^{\\star} = \\frac{k_BT}{\\epsilon}$ respectively.\n"
   ]
  },
  {
   "cell_type": "markdown",
   "metadata": {},
   "source": [
    "**Qs:** Can you think of reason(s) why we would use reduced units?"
   ]
  },
  {
   "cell_type": "markdown",
   "metadata": {},
   "source": []
  },
  {
   "cell_type": "markdown",
   "metadata": {},
   "source": [
    "**Qs:** The Lennard-Jones parameters for Xenon are $\\sigma = 3.96 Å $ and $\\epsilon/k_B = 231.1 K $. To what conditions of Xenon does our simulation of Argon correspond?"
   ]
  },
  {
   "cell_type": "markdown",
   "metadata": {},
   "source": []
  },
  {
   "cell_type": "markdown",
   "metadata": {},
   "source": [
    "In the next cell so that you can get used to plotting with mathplotlib, plot the Lennard-Jones potential. "
   ]
  },
  {
   "cell_type": "code",
   "execution_count": null,
   "metadata": {},
   "outputs": [],
   "source": [
    "#Plot Lennard-Jones potential\n",
    "\n",
    "x = np.linspace(0.1, 10, 100)\n"
   ]
  },
  {
   "cell_type": "markdown",
   "metadata": {},
   "source": [
    "**Qs:** What is the equation for the force between particles $i$ and $j$ interacting via this potential? You will need this expression later in the practical when implementing the MD code.\n",
    "\n",
    " (Remember that $f_{ij} = -\\nabla U(r_{ij}$)"
   ]
  },
  {
   "cell_type": "code",
   "execution_count": null,
   "metadata": {},
   "outputs": [],
   "source": []
  },
  {
   "cell_type": "markdown",
   "metadata": {},
   "source": [
    "Now we are ready to start writing our MD code. In general running an MD simulation consists of a repeated sequence of steps:\n",
    "\n",
    "1. Initialise the system with positions and velocities.\n",
    "2. Compute forces.\n",
    "3. Integrate Newton's Equations of Motion to get position after one timestep\n",
    "4. Monitor properties\n",
    "\n",
    "Steps 2 and 3 and 4 are repeated for a specified number of steps after which average properties (e.g. temperature) can be computed from the properties computed at each step in stage 4 (e.g. average temperature from instantaneous temperature). The resulting _trajectory_ - the positions of all the particles at each time can be analysed after to give properties such as the radial distribution function.\n",
    "\n",
    "In the cell below you have been given a bare-bones MD code. While the general structure is in place, some key functions have been left out that you must fill in. Places that you should add your own code have been marked with ###\n",
    "\n",
    "We will now work step-by-step through the code. (Note, you do not already have to complete the full code below. Go to the next cell after the code for a step-by-step walk through.)"
   ]
  },
  {
   "cell_type": "markdown",
   "metadata": {},
   "source": [
    "### MD Code"
   ]
  },
  {
   "cell_type": "code",
   "execution_count": null,
   "metadata": {},
   "outputs": [],
   "source": [
    "#MD code\n",
    "\n",
    "class MD:\n",
    "    def __init__(self, n_particles, box_length, temperature, dt=0.005, read_positions=False):\n",
    "        self.n_particles = n_particles\n",
    "        self.box_length = box_length\n",
    "        self.temperature = temperature\n",
    "        self.dt = dt\n",
    "        self.read_positions = read_positions\n",
    "        self.positions, self.old_positions, self.velocities, self.U_kin = self.initialise_system(read_positions)\n",
    "        # self.positions, self.old_positions, self.velocities, self.U_kin = self.initialise_system_random()\n",
    "\n",
    "        self.forces, self.potential_energy, self.pressure = self.calculate_forces()\n",
    "\n",
    "\n",
    "\n",
    "    def initialise_system(self, read_positions):\n",
    "\n",
    "        if read_positions:\n",
    "            positions = np.load('positions.npy')[-1] # load final frame of previous simulation as starting positions\n",
    "        \n",
    "        else:\n",
    "            positions = np.zeros((self.n_particles, 3))\n",
    "\n",
    "            n_per_dim = int(np.ceil(self.n_particles ** (1/3))) # n_particles should be a perfect cube\n",
    "\n",
    "            # Calculate the spacing between particles\n",
    "            spacing = self.box_length / n_per_dim\n",
    "\n",
    "            counter = 0\n",
    "\n",
    "            # Place particles on a lattice\n",
    "            for i in range(n_per_dim):\n",
    "                for j in range(n_per_dim):\n",
    "                    for k in range(n_per_dim):\n",
    "                        if counter < self.n_particles:\n",
    "                            positions[counter] = np.array([i, j, k]) * spacing\n",
    "                            counter += 1\n",
    "        \n",
    "        old_positions = np.zeros((self.n_particles, 3))\n",
    "        velocities = np.zeros((self.n_particles, 3))\n",
    "\n",
    "        # Initialize velocities with Maxwell-Boltzmann distribution\n",
    "        velocities = np.random.normal(0, np.sqrt(self.temperature), (self.n_particles, 3))\n",
    "\n",
    "        # Remove center of mass motion\n",
    "        momentum = np.sum(velocities, axis=0) / self.n_particles\n",
    "        velocities -= momentum\n",
    "\n",
    "        # Rescale velocities to match desired temperature\n",
    "        kinetic_energy = 0.5 * np.sum(velocities**2)\n",
    "        scale_factor = np.sqrt((3 * self.n_particles * self.temperature) / (2 * kinetic_energy))\n",
    "        velocities *= scale_factor\n",
    "\n",
    "        # Get old positions for velocity verlet\n",
    "        old_positions = positions - velocities * self.dt\n",
    "\n",
    "        return positions, old_positions, velocities, kinetic_energy\n",
    "    \n",
    "\n",
    "    def calculate_forces(self):\n",
    "        forces = np.zeros((self.n_particles, 3))\n",
    "        potential_energy = 0.0\n",
    "        pressure = 0.0\n",
    "        \n",
    "        cutoff = 0.5 * self.box_length \n",
    "        cutoff2 = cutoff ** 2\n",
    "        ecut = 4 * (cutoff**-12 - cutoff**-6)  # Correct cutoff energy shift\n",
    "        \n",
    "        for i in range(self.n_particles):\n",
    "            for j in range(i + 1, self.n_particles):\n",
    "                xr = self.positions[i] - self.positions[j]\n",
    "                # Periodic boundary conditions\n",
    "                ### ensuure xr is the closest image ### \n",
    "                # TODO\n",
    "                \n",
    "                r2 = np.dot(xr, xr)\n",
    "                \n",
    "                if r2 < cutoff2:  \n",
    "                    ###### Compute the force and potential energy between particles i and j ######    \n",
    "                    # TODO:\n",
    "                    # force_magnitude = XXXX      # LJ potential force magnitude\n",
    "                    # force = force_magnitude * xr\n",
    "                    # forces[i] += force\n",
    "                    # forces[j] -= force\n",
    "                    # potential_energy += XXXX    # Shifted LJ potential\n",
    "                    pressure += np.dot(force, xr)\n",
    "        \n",
    "        # Pressure normalization\n",
    "        pressure /= (3.0 * self.box_length ** 3)\n",
    "        \n",
    "        return forces, potential_energy, pressure\n",
    "\n",
    "   \n",
    "    def euler(self):\n",
    "        # TODO\n",
    "        # new_positions = self.positions + XXXX\n",
    "        # self.positions = new_positions\n",
    "        # new_velocities = self.velocities + XXXX\n",
    "        # self.velocities = new_velocities\n",
    "        return\n",
    "\n",
    "\n",
    "\n",
    "    def velocity_verlet(self):\n",
    "        # TODO\n",
    "        # Half-step velocity update\n",
    "        # velocities_half = self.velocities + XXXX\n",
    "        #\n",
    "        # Full position update\n",
    "        # self.positions += XXXX\n",
    "        #\n",
    "        # Recalculate forces based on the new positions\n",
    "        # self.forces, self.potential_energy, self.pressure = self.calculate_forces()\n",
    "        # \n",
    "        # Full-step velocity update using the new forces\n",
    "        # self.velocities = velocities_half + XXXX\n",
    "        return\n",
    "\n",
    "    def calculate_temperature(self):\n",
    "        # TODO\n",
    "        # Calculate kinetic energy\n",
    "        # kinetic_energy = XXXX\n",
    "        # Calculate temperature\n",
    "        # temperature = XXXX\n",
    "        return temperature\n",
    "\n",
    "    def do_MD(self, n_steps, integrator):\n",
    "\n",
    "        # Check if the integrator is valid\n",
    "        if integrator not in ['euler', 'velocity_verlet']:\n",
    "            raise ValueError(\"Must choose an integrator: 'euler' or 'velocity_verlet'\")\n",
    "\n",
    "        properties = np.zeros((n_steps, 5))\n",
    "        positions = np.zeros((n_steps, self.n_particles, 3))\n",
    "\n",
    "        for step in range(n_steps):\n",
    "            self.forces, self.potential_energy, self.pressure = self.calculate_forces()\n",
    "            \n",
    "            if integrator == 'euler':\n",
    "                self.euler()\n",
    "            elif integrator == 'velocity_verlet':\n",
    "                self.velocity_verlet()\n",
    "\n",
    "            kinetic_energy = 0.5 * np.sum(self.velocities**2)\n",
    "            total_energy = kinetic_energy + self.potential_energy\n",
    "            temperature = self.calculate_temperature()\n",
    "\n",
    "            properties[step] = np.array([step, kinetic_energy, self.potential_energy, total_energy, temperature])\n",
    "            positions[step][:] = self.positions\n",
    "\n",
    "            print(f\"Step {step}, Kinetic Energy: {kinetic_energy:.3f}, Potential Energy: {self.potential_energy:.3f}, Total Energy: {total_energy:.3f}, Temperature: {temperature:.2f}\")\n",
    "\n",
    "        header = \"# step kinetic_energy potential_energy total_energy temperature\"\n",
    "        np.savetxt('data.txt', properties, header=header, comments='', fmt='%.8f')\n",
    "        np.save('positions.npy', positions)\n",
    "\n",
    "        return positions, properties\n"
   ]
  },
  {
   "cell_type": "markdown",
   "metadata": {},
   "source": [
    "### Step 1. Initialisation:\n",
    "We will initialise the argon particles on a lattice, to give a reasonable starting configuration (_can you think what would happen for example if the atoms were intialised on top of or very close to each other?_). This is done with the ```initialise_system``` function of the MD class above.\n",
    "So that your code runs reasonably quickly you should use 125 particles."
   ]
  },
  {
   "cell_type": "code",
   "execution_count": null,
   "metadata": {},
   "outputs": [],
   "source": [
    "# Set Argon parameters\n",
    "n_particles = 125\n",
    "sigma_ar = 3.4E-10  # Lennard-Jones sigma for argon in meters\n",
    "kb = 1.38064852E-23  # Boltzmann constant in J/K\n",
    "epsilon_ar = 120 * kb  # Argon epsilon in J\n",
    "mass_ar = 39.95 * 1.6747E-24  # Argon mass in grams\n",
    "temperature = 94.4  # Argon temperature in K\n",
    "density = 1.374 * 1E6  # In g/m^3\n",
    "dt = 1E-14  # Time step in seconds\n",
    "\n",
    "box_length = (mass_ar * n_particles / (density)) ** (1/3) #metres\n",
    "\n",
    "box_length_lj = box_length / sigma_ar # In LJ units\n",
    "\n",
    "temperature_lj = temperature * kb / epsilon_ar # In LJ units\n",
    "\n",
    "dt_lj = dt / (sigma_ar * np.sqrt(mass_ar / epsilon_ar)) # In LJ units\n",
    "\n",
    "n_particles = 125\n",
    "\n",
    "table = [\n",
    "    [\"Number of particles\", n_particles, \"125\"],\n",
    "    [\"Box length (m)\", f\"{box_length:.5e}\", f\"{box_length_lj:.5e}\"],\n",
    "    [\"Temperature (K)\", temperature, f\"{temperature_lj:.5e}\"],\n",
    "    [\"Time step (s)\", f\"{dt:.5e}\", f\"{dt_lj:.5e}\"]\n",
    "]\n",
    "\n",
    "# Print the table\n",
    "print(tabulate(table, headers=[\"Property\", \"SI Units\", \"LJ Units\"], tablefmt=\"fancy_grid\"))"
   ]
  },
  {
   "cell_type": "markdown",
   "metadata": {},
   "source": [
    "Now initialise the MD class with the number of particles, box length, temperature and timestep you have defined above."
   ]
  },
  {
   "cell_type": "code",
   "execution_count": null,
   "metadata": {},
   "outputs": [],
   "source": [
    "md_simulation = MD(n_particles, box_length_lj, temperature_lj, dt_lj, read_positions = False)"
   ]
  },
  {
   "cell_type": "markdown",
   "metadata": {},
   "source": [
    "A good practice is to visualise your initial configuration to ensure everything is as expected i.e. no overlapping particles etc. Here you can do this within the notebook with ASE. Note that ASE default units are A, and so you need to rescale your LJ distances back using $\\sigma$."
   ]
  },
  {
   "cell_type": "code",
   "execution_count": null,
   "metadata": {},
   "outputs": [],
   "source": [
    "system = Atoms(['Ar'] * md_simulation.n_particles, positions = md_simulation.positions * sigma_ar*1E10)\n",
    "system.set_cell([box_length_lj * sigma_ar*1E10, box_length_lj * sigma_ar*1E10, box_length_lj * sigma_ar*1E10])\n",
    "view(system, viewer = 'x3d')\n"
   ]
  },
  {
   "cell_type": "markdown",
   "metadata": {},
   "source": [
    "## Step 2: Calculate forces\n",
    "\n",
    "As you learned about in the lectures, so that we can mimic the simulation of an infinite bulk in our finite simulation cell, we employ periodic boundary conditions. You should implement this in the line under ```#periodic boundary conditions``` in the ```get_forces()``` function. \n",
    "\n",
    "You should also use the expression you computed for the forces above to implement the force calculation. You can see that the forces should be computed for all the pairs of particeles whose distance is less than the cutoff ```r_cut```.\n",
    "\n",
    "Finally when you compute the potential energy you should remember to shift it such that the potential goes to 0 at the cutoff $r_c$:\n",
    "\n",
    "$$ U^{sh}(r) = \\begin{cases} U(r) - U(r_c) & \\text{if } r < r_c \\\\ 0 & \\text{if } r > r_c \\end{cases} $$\n"
   ]
  },
  {
   "cell_type": "markdown",
   "metadata": {},
   "source": [
    "## Step 3: Integrate Equations of Motion\n",
    "Once you have computed the forces, the final step is to propegate the system according to Newton's Equations. There are many different numerical integration schemes for this, two of which you learned about in the lectures: _Simple Euler_ and _Velocity-Verlet_.\n",
    "\n",
    "You should complete the functions ```euler``` and ```verlet``` in the code above. Note that when the system is initialised, ```old_positions```, ```new_positions``` and ```velocities``` are defined. You can update these simply by calling for example ```self.positions = new_positions```.\n",
    "\n",
    "Recall that under the Euler Scheme, the positions are given by:\n",
    "$$ r(t + \\Delta t) = r(t) + v(t) \\Delta(t) + \\frac{1}{2} \\frac{f(t)}{m} \\Delta t^2$$\n",
    "\n",
    "while the Velocity-Verlet algorithm requires first to compute the velocities at $t+\\Delta t/2$ so to update the positions at $t+\\Delta t$, after which the velocities are then recomputed at $t+\\Delta t$:\n",
    "\n",
    "$$ p_i(t+\\Delta t/2) = p_i (t) + \\frac{1}{2}f_i(t)\\Delta t \\\\\n",
    "r_i(t + \\Delta t) = r_i (t) + v_i (t+ \\Delta t/2) \\Delta t \\\\\n",
    "p_i(t+ \\Delta t) = p_i(t+\\Delta t/2) + 1/2 f_i(t+\\Delta t) \\Delta t $$"
   ]
  },
  {
   "cell_type": "markdown",
   "metadata": {},
   "source": [
    "## Step 4: Monitor Properties\n",
    "\n",
    "The code will print out some properties of interest that you can monitor over the simulation [Timestep; kinetic energy; potential energy; total energy; temperature]. You should implement the code to compute the temperature at each step of the simulation ```calculate_temperature```. Recall that the temperature can be related to the average kinetic energy per degreee of freedom as $$\\frac{1}{2}k_B T = \\langle \\frac{1}{2} m v^2 \\rangle$$\n",
    "You should therefore first compute the kinetic energy, and then relate that to the instantaneous temperature."
   ]
  },
  {
   "cell_type": "markdown",
   "metadata": {},
   "source": [
    "## Running the simulation\n",
    "Your code should now be ready to run a simulation, which you can do in the cell below as shown:\n",
    "You will notice that a number of properties are printed to the screen and saved to the variable `properties` [Timestep; kinetic energy; potential energy; total energy; temperature]. These properties are also saved to a file called ```data.txt```, which you can load and plot different properties over time (use numpy and matplotlib or else if you prefer gnuplot or some other plotting software).\n"
   ]
  },
  {
   "cell_type": "code",
   "execution_count": null,
   "metadata": {},
   "outputs": [],
   "source": [
    "n_steps = 100\n",
    "# Run MD simulation\n",
    "positions, properties_euler = md_simulation.do_MD(n_steps, integrator='euler')\n"
   ]
  },
  {
   "cell_type": "markdown",
   "metadata": {},
   "source": [
    "## Analysis of simulation \n",
    "\n",
    "The above simulation was run with the simple Euler method."
   ]
  },
  {
   "cell_type": "markdown",
   "metadata": {},
   "source": [
    "**Qs:** Plot the total energy over time as shown below. What do you notice? Is the Euler scheme energy conserving?"
   ]
  },
  {
   "cell_type": "code",
   "execution_count": null,
   "metadata": {},
   "outputs": [],
   "source": [
    "fig, ax = plt.subplots()\n",
    "tot_energy = properties_euler[:,3]\n",
    "\n",
    "ax.plot(np.arange(n_steps), tot_energy)\n",
    "ax.ticklabel_format(style='plain')\n",
    "ax.get_yaxis().get_major_formatter().set_useOffset(False)\n",
    "ax.set_xlabel('Step')\n",
    "ax.set_ylabel('Total Energy')\n"
   ]
  },
  {
   "cell_type": "markdown",
   "metadata": {},
   "source": [
    "**Qs:** Repeat the same simulation again but this time using the Velocity-Verlet algorithm. Are there any differences compared to the Simple Euler method?"
   ]
  },
  {
   "cell_type": "code",
   "execution_count": null,
   "metadata": {},
   "outputs": [],
   "source": [
    "positions, properties_verlet = md_simulation.do_MD(n_steps, integrator='velocity_verlet')"
   ]
  },
  {
   "cell_type": "code",
   "execution_count": null,
   "metadata": {},
   "outputs": [],
   "source": [
    "fig, ax = plt.subplots()\n",
    "tot_energy = properties_euler[:,3]\n",
    "\n",
    "ax.plot(np.arange(n_steps), tot_energy)\n",
    "ax.ticklabel_format(style='plain')\n",
    "ax.get_yaxis().get_major_formatter().set_useOffset(False)\n",
    "ax.set_xlabel('Step')\n",
    "ax.set_ylabel('Total Energy')\n",
    "\n",
    "tot_energy = properties_verlet[:,3]\n",
    "ax.plot(np.arange(n_steps), tot_energy)\n",
    "\n"
   ]
  },
  {
   "cell_type": "markdown",
   "metadata": {},
   "source": [
    "**Qs:** What is the effect of the timestep on the stability of the simulation? Re-initialise the ```md_simulation``` object with different timesteps ```**timestep**``` and make a plot of the potential energy over time. (The cell below gives the general structure to reinitialise and run the simulation but you might want to think of writing a loop over the timesteps)."
   ]
  },
  {
   "cell_type": "code",
   "execution_count": null,
   "metadata": {},
   "outputs": [],
   "source": [
    "md_simulation = MD(n_particles, box_length_lj, temperature_lj, ** timestep **, read_positions = False)\n",
    "positions, properties_verlet = md_simulation.do_MD(n_steps, integrator='velocity_verlet')"
   ]
  },
  {
   "cell_type": "code",
   "execution_count": null,
   "metadata": {},
   "outputs": [],
   "source": [
    "# Plot effect of timestep"
   ]
  },
  {
   "cell_type": "markdown",
   "metadata": {},
   "source": [
    "## Analysis of trajectory \n",
    "\n",
    "You will notice that the code also saves the _trajectory_ as ```positions.npy```, that is the positions of all particles at each timestep of the simulation. The trajectory is very rich in information and we can compute many different static and dynamic properties simply from the positions of the atoms. You can load the trajectory as shown in the notebook with ```np.load('positions.npy')```\n",
    "\n",
    "You learned in the lectures about the radial distribution function $g(r)$ which probes the local structural properties:\n",
    "\n",
    "$$g(r) = \\frac{\\langle N_p (r) \\rangle}{N_p^{id}(r)} $$\n",
    "where $\\langle N_p (r) \\rangle$ is the average number of particle pairs in a shell {r, r+\\Deltar} and $N_p^{id}$ is the bulk number of pairs in the ideal gas.\n",
    "\n",
    "**Qs:** In the cell below complete the function to compute the radial distribution function for a trajectory. The trajectory is loaded in the ```positions``` variable and the strucutre of the loops over the particles is there to get you started."
   ]
  },
  {
   "cell_type": "code",
   "execution_count": null,
   "metadata": {},
   "outputs": [],
   "source": [
    "#radial distribution function\n",
    "\n",
    "positions = np.load('positions.npy')\n",
    "\n",
    "def get_rdf(positions, nbins=100):\n",
    "    box_length = box_length_lj\n",
    "    gr = np.zeros((nbins,2))\n",
    "\n",
    "    bin_index = 0\n",
    "    for k in range(positions.shape[0]):\n",
    "        for i in range(n_particles):\n",
    "            for j in range(i+1, n_particles):\n",
    "                #\n",
    "                #\n",
    "                #\n",
    "    \n",
    "    for i in range(nbins): #final normalisation\n",
    "        #\n",
    "        #\n",
    "        #\n",
    "\n",
    "    return gr\n",
    "\n",
    "rdf = get_rdf(positions)"
   ]
  },
  {
   "cell_type": "markdown",
   "metadata": {},
   "source": [
    "**QS:** Plot the radial distribution function as shown. Recall that the simulation was initialised on a lattice. Does the RDF show that the system has \"melted\"?"
   ]
  },
  {
   "cell_type": "code",
   "execution_count": null,
   "metadata": {},
   "outputs": [],
   "source": [
    "#plot radial distribution function\n",
    "\n",
    "fig, ax = plt.subplots()\n",
    "bins = rdf[:,0]\n",
    "g = rdf[:,1]\n",
    "ax.plot(bins  , g)   \n",
    "ax.set_xlabel('r')\n",
    "ax.set_ylabel('g(r)')\n"
   ]
  },
  {
   "cell_type": "markdown",
   "metadata": {},
   "source": [
    "If your system is still looking very `solid-like' instead of waiting for a long time for it to melt, you could instead run a short (1000 steps) simluation at a higher temperature and then use the last frame to initialise a _production_ simulation at the target temperature. You can use the last frame of a saved trajectory by enabling ```read_positions=True``` in the initialisation. You should complete the code below with the correct ```temperature_high``` and ```temperature_target```.\n",
    "\n",
    "**Qs:** Plot the rdf of the resulting simulation. You can also compare it to the rdf in Rahman's original paper."
   ]
  },
  {
   "cell_type": "code",
   "execution_count": null,
   "metadata": {},
   "outputs": [],
   "source": [
    "md_simulation = MD(n_particles, box_length_lj, temperature_high, dt_lj, read_positions = False)\n",
    "positions, properties = md_simulation.do_MD(n_steps, integrator='velocity_verlet')\n",
    "\n",
    "md_simulation = MD(n_particles, box_length_lj, temperature_target, dt_lj, read_positions = True)\n",
    "positions, properties = md_simulation.do_MD(n_steps, integrator='velocity_verlet')\n"
   ]
  },
  {
   "cell_type": "code",
   "execution_count": null,
   "metadata": {},
   "outputs": [],
   "source": [
    "#plot rdfs"
   ]
  },
  {
   "cell_type": "markdown",
   "metadata": {},
   "source": [
    "Finally you can save your trajectory as an `xyz` file, and use a visualiser such as ```VMD``` to view your trajectory.\n"
   ]
  },
  {
   "cell_type": "code",
   "execution_count": null,
   "metadata": {},
   "outputs": [],
   "source": [
    "positions = np.load('positions.npy')\n",
    "for idx, i in enumerate(positions):\n",
    "    system = Atoms(['Ar'] * md_simulation.n_particles, positions = i * sigma_ar*1E10)\n",
    "    system.set_cell([box_length_lj * sigma_ar*1E10, box_length_lj * sigma_ar*1E10, box_length_lj * sigma_ar*1E10])\n",
    "    if idx == 0:\n",
    "        ase.io.write('argon.xyz', system, append = False)\n",
    "    else:\n",
    "        ase.io.write('argon.xyz', system, append = True)"
   ]
  },
  {
   "cell_type": "markdown",
   "metadata": {},
   "source": [
    "## References\n",
    "<a id=\"1\">[1]</a> \n",
    "A. Rahman\n",
    "Phys. Rev. 136, A405 – Published 19 October 1964\n"
   ]
  }
 ],
 "metadata": {
  "kernelspec": {
   "display_name": "Python 3 (ipykernel)",
   "language": "python",
   "name": "python3"
  },
  "language_info": {
   "codemirror_mode": {
    "name": "ipython",
    "version": 3
   },
   "file_extension": ".py",
   "mimetype": "text/x-python",
   "name": "python",
   "nbconvert_exporter": "python",
   "pygments_lexer": "ipython3",
   "version": "3.12.2"
  }
 },
 "nbformat": 4,
 "nbformat_minor": 4
}
