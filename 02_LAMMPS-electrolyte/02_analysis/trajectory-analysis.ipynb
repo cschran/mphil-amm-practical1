{
 "cells": [
  {
   "cell_type": "markdown",
   "metadata": {},
   "source": [
    "# Part 2: Using LAMMPS to simulate a solid/electrolyte interface\n",
    "\n",
    "Interfacial systems are extremely ubiquitous - from membranes in biological systems to electrode-electrolyte interfaces in batteries. In this part of the practical we will explore an interfacial system of relevance for numerous technological applications: a solution of NaCl in water in contact with graphene. Our goal is to learn how we can use a simulation trajectory to learn useful information about the structural and dynamic properties of this system.\n",
    "\n",
    "You now have experience in running simulations with LAMMPS, and you should have generated a trajectory to analyse. Since it can take quite a while to converge certain properties (longer than you can do in the time of this practical on a few cores), in this section you will run your analysis on a longer trajectory (10 ns) that we provided for you here: `~/rds/rds-ljc-summerschool/Molecular_dynamics_4/traj.dcd`.\n",
    "\n",
    "You can run the analysis as you would like -- you can for example explore the broad set of tools available from the _MDAnalysis_ python package, or you are free to write your own analysis scripts, use a different code or some combination of all of the above! \n",
    "\n",
    "If you would like to use MDAnalysis we have given you a head start in the cell below, loading the `Universe' with which you can use to do your analysis."
   ]
  },
  {
   "cell_type": "code",
   "execution_count": 218,
   "metadata": {},
   "outputs": [],
   "source": [
    "#Load libraries you might use\n",
    "import numpy as np\n",
    "from scipy import stats\n",
    "import matplotlib.pyplot as plt\n",
    "\n",
    "import ase\n",
    "import ase.io \n",
    "from ase import Atoms\n",
    "from ase.visualize import view\n",
    "\n",
    "import MDAnalysis as mda\n",
    "from MDAnalysis.analysis.lineardensity import LinearDensity\n",
    "import MDAnalysis.analysis.msd as msdmda\n",
    "from MDAnalysis.analysis.distances import distance_array\n",
    "from MDAnalysis.lib import distances\n",
    "from MDAnalysis.analysis.base import AnalysisBase\n",
    "\n",
    "# Some useful constants and unit conversions\n",
    "m_na = 22.98976928 # molar mass\n",
    "m_cl = 35.453\n",
    "m_o = 15.999\n",
    "cm_to_angstrom = 1e8\n",
    "ps_to_s = 1e-12\n",
    "NA = 6.02214076e23 # Avogadro's constant\n",
    "\n",
    "data_path = './'\n",
    "traj = 'traj.dcd'\n",
    "top = 'init_nvt.xyz'\n",
    "\n",
    "#create universe\n",
    "u = mda.Universe(f'{data_path}/{top}', f'{data_path}/{traj}', format = 'LAMMPS')\n",
    "atoms = u.select_atoms('all')   \n",
    "set(atoms.types)\n",
    "na = u.select_atoms('name Na')\n",
    "cl = u.select_atoms('name Cl')\n",
    "c = u.select_atoms('name C')\n",
    "ox = u.select_atoms('name O')  "
   ]
  },
  {
   "cell_type": "markdown",
   "metadata": {},
   "source": [
    "## How does the interface affect the electrolyte struture?\n",
    "\n",
    "### Density profiles\n",
    "\n",
    "The first question we want to explore is: what is the structure of the electrolyte at the interface? To address this, let's analyse the density profile of the electrolyte as a function of distance (in the z direction) from the interface. \n",
    "\n",
    "**Make a plot of the local density of the sodium ion, chloride, and water's oxygen atoms as a function of distance from the graphene.**"
   ]
  },
  {
   "cell_type": "code",
   "execution_count": 221,
   "metadata": {},
   "outputs": [],
   "source": []
  },
  {
   "cell_type": "markdown",
   "metadata": {},
   "source": [
    "**Qs:** After what distance from the graphene does the water recover its bulk density?"
   ]
  },
  {
   "cell_type": "markdown",
   "metadata": {},
   "source": []
  },
  {
   "cell_type": "markdown",
   "metadata": {},
   "source": [
    "**Qs:** How do the Na and Cl adsorption profiles compare? Is this behaviour what you expect physically?"
   ]
  },
  {
   "cell_type": "markdown",
   "metadata": {},
   "source": []
  },
  {
   "cell_type": "markdown",
   "metadata": {},
   "source": [
    "### Water orientation\n",
    "\n",
    "Following from the analysis of the overall structure of the electrolyte, it would also be interesting to understand how the interface affects the orientation of the waters."
   ]
  },
  {
   "cell_type": "markdown",
   "metadata": {},
   "source": [
    "To get you started, we've provided a function that gives you the positions of all the water molecules in the system. The function takes in an MDAnalysis universe and returns a three-dimensional numpy array of positions, where the dimensions correspond to (1) the atom in the water molecule (O, H, H) (2) the number of water molecules (500 in this case), and (3) the spatial direction (x, y, z)."
   ]
  },
  {
   "cell_type": "code",
   "execution_count": 254,
   "metadata": {},
   "outputs": [],
   "source": [
    "def get_water_pos(u):\n",
    "    oh_dist = distance_array(u.atoms.select_atoms('name O').positions,\n",
    "                                 u.atoms.select_atoms('name H').positions,\n",
    "                                 box=u.dimensions)\n",
    "\n",
    "    idx = np.argpartition(oh_dist, 3, axis=-1)\n",
    "    opos = u.atoms.select_atoms('name O').positions\n",
    "    h1pos = u.atoms.select_atoms('name H')[idx[:,0]].positions\n",
    "    h2pos = u.atoms.select_atoms('name H')[idx[:,1]].positions\n",
    "\n",
    "    return np.array([opos, h1pos, h2pos])"
   ]
  },
  {
   "cell_type": "markdown",
   "metadata": {},
   "source": [
    "Now, **write a function that computes the dipole orientation of the water ($\\theta$) relative to the z direction** (see the image below)."
   ]
  },
  {
   "attachments": {
    "image.png": {
     "image/png": "[encoded data removed]"
    }
   },
   "cell_type": "markdown",
   "metadata": {},
   "source": [
    "![image.png](attachment:image.png)"
   ]
  },
  {
   "cell_type": "code",
   "execution_count": 291,
   "metadata": {},
   "outputs": [],
   "source": []
  },
  {
   "cell_type": "markdown",
   "metadata": {},
   "source": [
    "Finally, **make a plot of $cos(\\theta)$ as a function of height (distance from the interface).** Incorporate the orientations of all water molecules over the whole trajectory."
   ]
  },
  {
   "cell_type": "code",
   "execution_count": null,
   "metadata": {},
   "outputs": [],
   "source": []
  },
  {
   "cell_type": "markdown",
   "metadata": {},
   "source": [
    "**Qs:** Do the waters have a preferential orientation closer to the graphene compared to in bulk? "
   ]
  },
  {
   "cell_type": "markdown",
   "metadata": {},
   "source": []
  },
  {
   "cell_type": "markdown",
   "metadata": {},
   "source": [
    "## Electrolyte dynamics\n",
    "\n",
    "Beyond structrual properties, we also want to understand the dynamics of the system and how tranpsort differs for the two ions and the water. To do so, let's compute the self-diffusion coefficient of the Na, Cl, and water. We recommend using the Einstein relation (recall from the lectures that $D = \\frac{1}{2d} \\frac{d}{dt} \\langle r^2(t)\\rangle$). \n",
    "\n",
    "**First, create a plot of the mean-squared displacement of each species vs time.** You can either write your own code to compute the mean-squared displacement or try out the msd module from MDAnalysis. Since the system is anisotropic in the z-direction, you should only compute the diffusion coefficients based on transport in the x- and y-directions. It may be useful to note that the snapshots stored in the provided trajectory file are collected every 1 ps. "
   ]
  },
  {
   "cell_type": "code",
   "execution_count": null,
   "metadata": {},
   "outputs": [],
   "source": []
  },
  {
   "cell_type": "markdown",
   "metadata": {},
   "source": [
    "**Qs:** The trajectory we provided to you had *unwrapped* coordinates. What is the difference between unwrapped and wrapped coordinates, and which do we want to use to compute the MSD? What would your MSD plots have looked like with wrapped coordinates?"
   ]
  },
  {
   "cell_type": "markdown",
   "metadata": {},
   "source": []
  },
  {
   "cell_type": "markdown",
   "metadata": {},
   "source": [
    "**Qs:** You may notice that the MSDs get noisier at long times, and that this noise is more pronounced for the ions than for the water molecules. Why do you think this is?"
   ]
  },
  {
   "cell_type": "markdown",
   "metadata": {},
   "source": []
  },
  {
   "cell_type": "markdown",
   "metadata": {},
   "source": [
    "**Now, use the slope of the MSD plot you created to compute the diffusion coefficient for each species.** Report your answer in units if $cm^2/s$. As a sanity check, compare the order of magnitude of your diffusion coefficients to literature values for bulk water."
   ]
  },
  {
   "cell_type": "code",
   "execution_count": null,
   "metadata": {},
   "outputs": [],
   "source": []
  },
  {
   "cell_type": "markdown",
   "metadata": {},
   "source": [
    "**Qs:** How sensitive is your result to the fitting regime/procedure you use (i.e. the range of times you use to make the linear fit)? What should you consider when choosing your fitting procedure to make your results reliable?"
   ]
  },
  {
   "cell_type": "markdown",
   "metadata": {},
   "source": []
  },
  {
   "cell_type": "markdown",
   "metadata": {},
   "source": [
    "**Qs:** Which species (Na, Cl, and O) diffuse the fastest/slowest? Can you hypothesize why? "
   ]
  },
  {
   "cell_type": "markdown",
   "metadata": {},
   "source": []
  },
  {
   "cell_type": "markdown",
   "metadata": {},
   "source": [
    "## Final reflections"
   ]
  },
  {
   "cell_type": "markdown",
   "metadata": {},
   "source": [
    "**Qs:** Do you think we are ready to publish our results? Can you think of some of the weaknesses in the simulations we have run above? For example you can think in terms of:\n",
    "\n",
    "(a) the physical set-up. What are the constraints we impose on the system? Are these realistic? What would you instead do to improve the setup?\n",
    "\n",
    "(b) the potential energy surface we use to represent the system. Is this the most accurate description of the system? Are there interactions that we are not accounting for with our current classical model?\n",
    "\n",
    "(c) the analysis. Have we run the simulations long enough to get converged results? How could we get error estimates for each of the quantities we computed? "
   ]
  },
  {
   "cell_type": "markdown",
   "metadata": {},
   "source": []
  },
  {
   "cell_type": "markdown",
   "metadata": {},
   "source": []
  }
 ],
 "metadata": {
  "kernelspec": {
   "display_name": "caco3",
   "language": "python",
   "name": "python3"
  },
  "language_info": {
   "codemirror_mode": {
    "name": "ipython",
    "version": 3
   },
   "file_extension": ".py",
   "mimetype": "text/x-python",
   "name": "python",
   "nbconvert_exporter": "python",
   "pygments_lexer": "ipython3",
   "version": "3.8.5"
  }
 },
 "nbformat": 4,
 "nbformat_minor": 2
}
